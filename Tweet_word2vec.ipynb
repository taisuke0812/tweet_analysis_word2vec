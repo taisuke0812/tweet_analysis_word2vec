{
  "nbformat": 4,
  "nbformat_minor": 0,
  "metadata": {
    "colab": {
      "name": "Tweet_word2vec.ipynb",
      "version": "0.3.2",
      "provenance": [],
      "toc_visible": true,
      "include_colab_link": true
    },
    "kernelspec": {
      "name": "python3",
      "display_name": "Python 3"
    }
  },
  "cells": [
    {
      "cell_type": "markdown",
      "metadata": {
        "id": "view-in-github",
        "colab_type": "text"
      },
      "source": [
        "[View in Colaboratory](https://colab.research.google.com/github/taisuke0812/tweet_analysis_word2vec/blob/master/Tweet_word2vec.ipynb)"
      ]
    },
    {
      "metadata": {
        "id": "ZaFrEbq5BbwY",
        "colab_type": "code",
        "colab": {}
      },
      "cell_type": "code",
      "source": [
        "import pandas as pd\n",
        "import re\n",
        "import numpy as np\n",
        "import glob\n",
        "from janome.tokenizer import Tokenizer\n",
        "from gensim.models import word2vec\n",
        "\n",
        "def tokenize(text):\n",
        "    t = Tokenizer()\n",
        "    tokens = t.tokenize(\",\".join(text))\n",
        "    word = []\n",
        "    for token in tokens:\n",
        "        part_of_speech = token.part_of_speech.split(\",\")[0]\n",
        " \n",
        "        if part_of_speech == \"名詞\":\n",
        "            word.append(token.surface)        \n",
        "        #if part_of_speech == \"動詞\":        \n",
        "            #word.append(token.surface)\n",
        "        if part_of_speech == \"形容詞\":\n",
        "            word.append(token.surface)        \n",
        "        if part_of_speech == \"形容動詞\":        \n",
        "            word.append(token.surface)            \n",
        "    return word\n",
        "\n",
        "\n",
        "tweets = pd.read_csv(\"tweets.csv\",engine = \"python\")\n",
        "\n",
        "tweets = tweets.drop(\"tweet_id\",axis=1)\n",
        "tweets = tweets.drop(\"timestamp\",axis=1)\n",
        "tweets = tweets.drop(\"source\",axis=1)\n",
        "tweets = tweets.drop(\"retweeted_status_id\",axis=1)\n",
        "tweets = tweets.drop(\"retweeted_status_user_id\",axis=1)\n",
        "tweets = tweets.drop(\"expanded_urls\",axis=1)\n",
        "tweets = tweets.drop(\"retweeted_status_timestamp\",axis=1)\n",
        "#tweets.head(20)\n",
        "\n",
        "tweets[\"in_reply_to_status_id\"].fillna(\"No_data\",inplace=True)\n",
        "\n",
        "new_tweet = []\n",
        "\n",
        "#誰かへのリプを削除\n",
        "for i in range(len(tweets)):\n",
        "   if(tweets[\"in_reply_to_status_id\"][i] == \"No_data\"):\n",
        "      new_tweet.append(tweets[\"text\"][i])\n",
        "      \n",
        "      \n",
        "#RTを削除\n",
        "data = []\n",
        "pattern = r\"RT\"\n",
        "for j in range(len(new_tweet)):\n",
        "  if(not(re.match(pattern,new_tweet[j]))):\n",
        "      data.append(new_tweet[j])\n",
        "\n",
        "#リンクを含むツイートを削除\n",
        "data_ = []\n",
        "patterns = r\"https\"\n",
        "for k in range(len(data)):\n",
        "  if(not(re.search(patterns,data[k]))):\n",
        "    data_.append(data[k])\n",
        "      \n",
        "#リプが消せ切れてなかったので\n",
        "data__ = []\n",
        "pattern_ = r\"@\"\n",
        "for l in range(len(data_)):\n",
        "    if(not(re.search(pattern_,data_[l]))):\n",
        "        data__.append(data_[l])\n",
        "\n",
        "\n",
        "\n",
        "tweet_data = pd.DataFrame(data__)\n",
        "\n",
        "tweet_data.head(120)\n",
        "\n",
        "tweets = np.array(tweet_data)\n",
        "word = \"\"\n",
        "for text in tweets:\n",
        "  word += text  \n",
        "text = tokenize(word)\n"
      ],
      "execution_count": 0,
      "outputs": []
    },
    {
      "metadata": {
        "id": "HuRWQipsB3ku",
        "colab_type": "code",
        "colab": {
          "base_uri": "https://localhost:8080/",
          "height": 125
        },
        "outputId": "f0404a90-e8b7-41be-eee3-68e4d4eeda61"
      },
      "cell_type": "code",
      "source": [
        "\n",
        "model = word2vec.Word2Vec([text], size=400, min_count=20, window=15)\n",
        "print(model.most_similar(positive=[\"制御\"]))"
      ],
      "execution_count": 49,
      "outputs": [
        {
          "output_type": "stream",
          "text": [
            "[('マジ', 0.9999834299087524), ('ん', 0.9999830722808838), ('の', 0.9999830722808838), ('笑', 0.9999827146530151), ('人', 0.9999825954437256), ('いい', 0.999982476234436), ('ない', 0.9999822378158569), ('こと', 0.9999819993972778), ('学校', 0.9999817609786987), ('...?', 0.9999817609786987)]\n"
          ],
          "name": "stdout"
        },
        {
          "output_type": "stream",
          "text": [
            "/usr/local/lib/python3.6/dist-packages/ipykernel_launcher.py:3: DeprecationWarning: Call to deprecated `most_similar` (Method will be removed in 4.0.0, use self.wv.most_similar() instead).\n",
            "  This is separate from the ipykernel package so we can avoid doing imports until\n",
            "/usr/local/lib/python3.6/dist-packages/gensim/matutils.py:737: FutureWarning: Conversion of the second argument of issubdtype from `int` to `np.signedinteger` is deprecated. In future, it will be treated as `np.int64 == np.dtype(int).type`.\n",
            "  if np.issubdtype(vec.dtype, np.int):\n"
          ],
          "name": "stderr"
        }
      ]
    },
    {
      "metadata": {
        "id": "kOdPLpdlCtaY",
        "colab_type": "text"
      },
      "cell_type": "markdown",
      "source": [
        ""
      ]
    },
    {
      "metadata": {
        "id": "j8rxhjUBBWRz",
        "colab_type": "text"
      },
      "cell_type": "markdown",
      "source": [
        ""
      ]
    },
    {
      "metadata": {
        "id": "zJxsv-ikIZQH",
        "colab_type": "code",
        "colab": {
          "base_uri": "https://localhost:8080/",
          "height": 175
        },
        "outputId": "45a48167-baae-4a14-e248-499378982955"
      },
      "cell_type": "code",
      "source": [
        "!pip install janome"
      ],
      "execution_count": 13,
      "outputs": [
        {
          "output_type": "stream",
          "text": [
            "Collecting janome\n",
            "\u001b[?25l  Downloading https://files.pythonhosted.org/packages/b4/7b/6f4fa5243a235cd682693b448f05afacedb2b10fc2efea3369d6336ab83b/Janome-0.3.6.tar.gz (20.0MB)\n",
            "\u001b[K    100% |████████████████████████████████| 20.0MB 830kB/s \n",
            "\u001b[?25hBuilding wheels for collected packages: janome\n",
            "  Running setup.py bdist_wheel for janome ... \u001b[?25l-\b \b\\\b \b|\b \b/\b \b-\b \b\\\b \b|\b \b/\b \b-\b \b\\\b \b|\b \b/\b \b-\b \b\\\b \b|\b \b/\b \b-\b \b\\\b \b|\b \b/\b \b-\b \b\\\b \b|\b \b/\b \b-\b \b\\\b \b|\b \b/\b \b-\b \b\\\b \bdone\n",
            "\u001b[?25h  Stored in directory: /root/.cache/pip/wheels/53/60/be/fe884e2d0ebc9fec0988736cf08a2820ab34e3569fc0c5a25a\n",
            "Successfully built janome\n",
            "Installing collected packages: janome\n",
            "Successfully installed janome-0.3.6\n"
          ],
          "name": "stdout"
        }
      ]
    },
    {
      "metadata": {
        "id": "SmkkB3K2_0Zv",
        "colab_type": "code",
        "colab": {
          "base_uri": "https://localhost:8080/",
          "height": 758
        },
        "outputId": "5c35386a-e770-4e55-9101-5ea703fa4cec"
      },
      "cell_type": "code",
      "source": [
        "!pip install gensim"
      ],
      "execution_count": 15,
      "outputs": [
        {
          "output_type": "stream",
          "text": [
            "Collecting gensim\n",
            "\u001b[?25l  Downloading https://files.pythonhosted.org/packages/27/a4/d10c0acc8528d838cda5eede0ee9c784caa598dbf40bd0911ff8d067a7eb/gensim-3.6.0-cp36-cp36m-manylinux1_x86_64.whl (23.6MB)\n",
            "\u001b[K    100% |████████████████████████████████| 23.6MB 1.5MB/s \n",
            "\u001b[?25hRequirement already satisfied: numpy>=1.11.3 in /usr/local/lib/python3.6/dist-packages (from gensim) (1.14.6)\n",
            "Requirement already satisfied: scipy>=0.18.1 in /usr/local/lib/python3.6/dist-packages (from gensim) (0.19.1)\n",
            "Collecting smart-open>=1.2.1 (from gensim)\n",
            "  Downloading https://files.pythonhosted.org/packages/4b/1f/6f27e3682124de63ac97a0a5876da6186de6c19410feab66c1543afab055/smart_open-1.7.1.tar.gz\n",
            "Requirement already satisfied: six>=1.5.0 in /usr/local/lib/python3.6/dist-packages (from gensim) (1.11.0)\n",
            "Collecting boto>=2.32 (from smart-open>=1.2.1->gensim)\n",
            "\u001b[?25l  Downloading https://files.pythonhosted.org/packages/23/10/c0b78c27298029e4454a472a1919bde20cb182dab1662cec7f2ca1dcc523/boto-2.49.0-py2.py3-none-any.whl (1.4MB)\n",
            "\u001b[K    100% |████████████████████████████████| 1.4MB 13.1MB/s \n",
            "\u001b[?25hCollecting bz2file (from smart-open>=1.2.1->gensim)\n",
            "  Downloading https://files.pythonhosted.org/packages/61/39/122222b5e85cd41c391b68a99ee296584b2a2d1d233e7ee32b4532384f2d/bz2file-0.98.tar.gz\n",
            "Requirement already satisfied: requests in /usr/local/lib/python3.6/dist-packages (from smart-open>=1.2.1->gensim) (2.18.4)\n",
            "Collecting boto3 (from smart-open>=1.2.1->gensim)\n",
            "\u001b[?25l  Downloading https://files.pythonhosted.org/packages/e3/af/ff24b42daacdc929629f4f85ce8a54ee1c6591475b5067d180028feffb57/boto3-1.9.28-py2.py3-none-any.whl (128kB)\n",
            "\u001b[K    100% |████████████████████████████████| 133kB 28.6MB/s \n",
            "\u001b[?25hRequirement already satisfied: chardet<3.1.0,>=3.0.2 in /usr/local/lib/python3.6/dist-packages (from requests->smart-open>=1.2.1->gensim) (3.0.4)\n",
            "Requirement already satisfied: idna<2.7,>=2.5 in /usr/local/lib/python3.6/dist-packages (from requests->smart-open>=1.2.1->gensim) (2.6)\n",
            "Requirement already satisfied: certifi>=2017.4.17 in /usr/local/lib/python3.6/dist-packages (from requests->smart-open>=1.2.1->gensim) (2018.10.15)\n",
            "Requirement already satisfied: urllib3<1.23,>=1.21.1 in /usr/local/lib/python3.6/dist-packages (from requests->smart-open>=1.2.1->gensim) (1.22)\n",
            "Collecting botocore<1.13.0,>=1.12.28 (from boto3->smart-open>=1.2.1->gensim)\n",
            "\u001b[?25l  Downloading https://files.pythonhosted.org/packages/ce/12/c3d6a94626c5cfd829d8ad88e333f70b2a17636b1b20daa17c48839125bb/botocore-1.12.28-py2.py3-none-any.whl (4.7MB)\n",
            "\u001b[K    100% |████████████████████████████████| 4.7MB 6.2MB/s \n",
            "\u001b[?25hCollecting s3transfer<0.2.0,>=0.1.10 (from boto3->smart-open>=1.2.1->gensim)\n",
            "\u001b[?25l  Downloading https://files.pythonhosted.org/packages/d7/14/2a0004d487464d120c9fb85313a75cd3d71a7506955be458eebfe19a6b1d/s3transfer-0.1.13-py2.py3-none-any.whl (59kB)\n",
            "\u001b[K    100% |████████████████████████████████| 61kB 24.0MB/s \n",
            "\u001b[?25hCollecting jmespath<1.0.0,>=0.7.1 (from boto3->smart-open>=1.2.1->gensim)\n",
            "  Downloading https://files.pythonhosted.org/packages/b7/31/05c8d001f7f87f0f07289a5fc0fc3832e9a57f2dbd4d3b0fee70e0d51365/jmespath-0.9.3-py2.py3-none-any.whl\n",
            "Requirement already satisfied: python-dateutil<3.0.0,>=2.1; python_version >= \"2.7\" in /usr/local/lib/python3.6/dist-packages (from botocore<1.13.0,>=1.12.28->boto3->smart-open>=1.2.1->gensim) (2.5.3)\n",
            "Collecting docutils>=0.10 (from botocore<1.13.0,>=1.12.28->boto3->smart-open>=1.2.1->gensim)\n",
            "\u001b[?25l  Downloading https://files.pythonhosted.org/packages/36/fa/08e9e6e0e3cbd1d362c3bbee8d01d0aedb2155c4ac112b19ef3cae8eed8d/docutils-0.14-py3-none-any.whl (543kB)\n",
            "\u001b[K    100% |████████████████████████████████| 552kB 19.1MB/s \n",
            "\u001b[?25hBuilding wheels for collected packages: smart-open, bz2file\n",
            "  Running setup.py bdist_wheel for smart-open ... \u001b[?25l-\b \bdone\n",
            "\u001b[?25h  Stored in directory: /root/.cache/pip/wheels/23/00/44/e5b939f7a80c04e32297dbd6d96fa3065af89ecf57e2b5f89f\n",
            "  Running setup.py bdist_wheel for bz2file ... \u001b[?25l-\b \bdone\n",
            "\u001b[?25h  Stored in directory: /root/.cache/pip/wheels/81/75/d6/e1317bf09bf1af5a30befc2a007869fa6e1f516b8f7c591cb9\n",
            "Successfully built smart-open bz2file\n",
            "Installing collected packages: boto, bz2file, jmespath, docutils, botocore, s3transfer, boto3, smart-open, gensim\n",
            "Successfully installed boto-2.49.0 boto3-1.9.28 botocore-1.12.28 bz2file-0.98 docutils-0.14 gensim-3.6.0 jmespath-0.9.3 s3transfer-0.1.13 smart-open-1.7.1\n"
          ],
          "name": "stdout"
        }
      ]
    },
    {
      "metadata": {
        "id": "6vvc9lbfMHdZ",
        "colab_type": "code",
        "colab": {}
      },
      "cell_type": "code",
      "source": [
        ""
      ],
      "execution_count": 0,
      "outputs": []
    },
    {
      "metadata": {
        "id": "sfzwQeOxNB3k",
        "colab_type": "code",
        "colab": {}
      },
      "cell_type": "code",
      "source": [
        ""
      ],
      "execution_count": 0,
      "outputs": []
    }
  ]
}